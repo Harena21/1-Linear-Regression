{
 "cells": [
  {
   "cell_type": "markdown",
   "metadata": {},
   "source": [
    "# Least squares"
   ]
  },
  {
   "cell_type": "code",
   "execution_count": 12,
   "metadata": {
    "deletable": false,
    "editable": false,
    "nbgrader": {
     "cell_type": "code",
     "checksum": "c761885983bb67597d5b71c35a0ec7dd",
     "grade": false,
     "grade_id": "cell-678763ad276cc09f",
     "locked": true,
     "schema_version": 3,
     "solution": false,
     "task": false
    }
   },
   "outputs": [],
   "source": [
    "import numpy as np\n",
    "import scipy\n",
    "from sklearn.metrics import mean_squared_error\n",
    "from sklearn import datasets\n",
    "from sklearn.linear_model import LinearRegression as LR\n",
    "\n",
    "def rel_error(x, y):\n",
    "  \"\"\" returns relative error \"\"\"\n",
    "  return np.max(np.abs(x - y) / (np.maximum(1e-8, np.abs(x) + np.abs(y))))\n",
    "\n",
    "data = datasets.load_diabetes()\n",
    "X_train, y_train = data.data, data.target"
   ]
  },
  {
   "cell_type": "code",
   "execution_count": 13,
   "metadata": {
    "deletable": false,
    "nbgrader": {
     "cell_type": "code",
     "checksum": "18180df278e73e6f76e771368ec05383",
     "grade": false,
     "grade_id": "cell-b05eee3d44b96fa8",
     "locked": false,
     "schema_version": 3,
     "solution": true,
     "task": false
    }
   },
   "outputs": [],
   "source": [
    "def fit_inverse(X, y):\n",
    "    \"\"\"Direct method using the inverse\"\"\"\n",
    "    return np.linalg.inv(X.T@X)@X.T@y"
   ]
  },
  {
   "cell_type": "code",
   "execution_count": 14,
   "metadata": {
    "deletable": false,
    "editable": false,
    "nbgrader": {
     "cell_type": "code",
     "checksum": "b45c5a315079b0d1d6e8315caca1e8bc",
     "grade": true,
     "grade_id": "cell-8b04c4a277023f70",
     "locked": true,
     "points": 1,
     "schema_version": 3,
     "solution": false,
     "task": false
    }
   },
   "outputs": [
    {
     "name": "stdout",
     "output_type": "stream",
     "text": [
      "prediction error:  3.776169742623381e-14\n"
     ]
    }
   ],
   "source": [
    "w = fit_inverse(X_train, y_train)\n",
    "\n",
    "sk_model = LR(fit_intercept=False)\n",
    "sk_model.fit(X_train, y_train)\n",
    "\n",
    "error = rel_error(sk_model.coef_, w)\n",
    "assert error <= 1e-13\n",
    "print(\"prediction error: \", error)"
   ]
  },
  {
   "cell_type": "code",
   "execution_count": 15,
   "metadata": {
    "deletable": false,
    "nbgrader": {
     "cell_type": "code",
     "checksum": "0a8508caf7357c557a41778fb85eeed7",
     "grade": false,
     "grade_id": "cell-f47228b1d23c9c3d",
     "locked": false,
     "schema_version": 3,
     "solution": true,
     "task": false
    }
   },
   "outputs": [],
   "source": [
    "from scipy.linalg import solve_triangular\n",
    "\n",
    "def fit_cholesky(X, y):\n",
    "    \"\"\" Cholesky approach \"\"\"\n",
    "    L = np.linalg.cholesky(X.T.dot(X))\n",
    "    Z = solve_triangular(L,X.T.dot(y),lower=True)\n",
    "        \n",
    "    return solve_triangular(L.T,Z)"
   ]
  },
  {
   "cell_type": "code",
   "execution_count": 16,
   "metadata": {
    "deletable": false,
    "editable": false,
    "nbgrader": {
     "cell_type": "code",
     "checksum": "39571fbbebc2d0b2e4e8c9a0a9db3c34",
     "grade": true,
     "grade_id": "cell-9466dcbcbd7f8417",
     "locked": true,
     "points": 1,
     "schema_version": 3,
     "solution": false,
     "task": false
    }
   },
   "outputs": [
    {
     "name": "stdout",
     "output_type": "stream",
     "text": [
      "prediction error:  6.821014246451709e-14\n"
     ]
    }
   ],
   "source": [
    "w = fit_cholesky(X_train, y_train)\n",
    "\n",
    "sk_model = LR(fit_intercept=False)\n",
    "sk_model.fit(X_train, y_train)\n",
    "\n",
    "error = rel_error(sk_model.coef_, w)\n",
    "assert error <= 1e-13\n",
    "print(\"prediction error: \", error)"
   ]
  },
  {
   "cell_type": "code",
   "execution_count": 17,
   "metadata": {
    "deletable": false,
    "nbgrader": {
     "cell_type": "code",
     "checksum": "41468b8caec731fca738225716663970",
     "grade": false,
     "grade_id": "cell-2877dca319d8a6a7",
     "locked": false,
     "schema_version": 3,
     "solution": true,
     "task": false
    }
   },
   "outputs": [],
   "source": [
    "def fit_qr(X, y):\n",
    "    \"\"\" QR approach\"\"\"\n",
    "    Q,R = np.linalg.qr(X.T.dot(X))\n",
    "    Z = Q.T.dot(X.T.dot(y))\n",
    "    return solve_triangular(R,Z)"
   ]
  },
  {
   "cell_type": "code",
   "execution_count": 18,
   "metadata": {
    "deletable": false,
    "editable": false,
    "nbgrader": {
     "cell_type": "code",
     "checksum": "f611b7bf0cf2dec0116f24e2107febc5",
     "grade": true,
     "grade_id": "cell-31e8d5d1584d650a",
     "locked": true,
     "points": 1,
     "schema_version": 3,
     "solution": false,
     "task": false
    }
   },
   "outputs": [
    {
     "name": "stdout",
     "output_type": "stream",
     "text": [
      "prediction error:  5.979029437792741e-14\n"
     ]
    }
   ],
   "source": [
    "w = fit_qr(X_train, y_train)\n",
    "\n",
    "sk_model = LR(fit_intercept=False)\n",
    "sk_model.fit(X_train, y_train)\n",
    "\n",
    "error = rel_error(sk_model.coef_, w)\n",
    "assert error <= 1e-13\n",
    "print(\"prediction error: \", error)"
   ]
  },
  {
   "cell_type": "code",
   "execution_count": 19,
   "metadata": {
    "deletable": false,
    "nbgrader": {
     "cell_type": "code",
     "checksum": "92c365f396dd028620c0287625882ad7",
     "grade": false,
     "grade_id": "cell-5073cab85ff159fb",
     "locked": false,
     "schema_version": 3,
     "solution": true,
     "task": false
    }
   },
   "outputs": [],
   "source": [
    "def fit_svd(X, y):\n",
    "    \"\"\" SVD approach\"\"\"\n",
    "    U,E,V = np.linalg.svd(X.T@X)\n",
    "    Z2 = U.T.dot(X.T@y)\n",
    "    Z1 = np.diag(1/E)@Z2\n",
    "\n",
    "    return V.T@Z1"
   ]
  },
  {
   "cell_type": "code",
   "execution_count": 20,
   "metadata": {
    "deletable": false,
    "editable": false,
    "nbgrader": {
     "cell_type": "code",
     "checksum": "2aae0f7dbc36ef688742fb7d4277e74a",
     "grade": true,
     "grade_id": "cell-e2714349e15197b8",
     "locked": true,
     "points": 1,
     "schema_version": 3,
     "solution": false,
     "task": false
    }
   },
   "outputs": [
    {
     "ename": "AssertionError",
     "evalue": "",
     "output_type": "error",
     "traceback": [
      "\u001b[0;31m---------------------------------------------------------------------------\u001b[0m",
      "\u001b[0;31mAssertionError\u001b[0m                            Traceback (most recent call last)",
      "\u001b[0;32m<ipython-input-20-e7627268c2d3>\u001b[0m in \u001b[0;36m<module>\u001b[0;34m\u001b[0m\n\u001b[1;32m      5\u001b[0m \u001b[0;34m\u001b[0m\u001b[0m\n\u001b[1;32m      6\u001b[0m \u001b[0merror\u001b[0m \u001b[0;34m=\u001b[0m \u001b[0mrel_error\u001b[0m\u001b[0;34m(\u001b[0m\u001b[0msk_model\u001b[0m\u001b[0;34m.\u001b[0m\u001b[0mcoef_\u001b[0m\u001b[0;34m,\u001b[0m \u001b[0mw\u001b[0m\u001b[0;34m)\u001b[0m\u001b[0;34m\u001b[0m\u001b[0;34m\u001b[0m\u001b[0m\n\u001b[0;32m----> 7\u001b[0;31m \u001b[0;32massert\u001b[0m \u001b[0merror\u001b[0m \u001b[0;34m<=\u001b[0m \u001b[0;36m1e-13\u001b[0m\u001b[0;34m\u001b[0m\u001b[0;34m\u001b[0m\u001b[0m\n\u001b[0m\u001b[1;32m      8\u001b[0m \u001b[0mprint\u001b[0m\u001b[0;34m(\u001b[0m\u001b[0;34m\"prediction error: \"\u001b[0m\u001b[0;34m,\u001b[0m \u001b[0merror\u001b[0m\u001b[0;34m)\u001b[0m\u001b[0;34m\u001b[0m\u001b[0;34m\u001b[0m\u001b[0m\n",
      "\u001b[0;31mAssertionError\u001b[0m: "
     ]
    }
   ],
   "source": [
    "w = fit_svd(X_train, y_train)\n",
    "\n",
    "sk_model = LR(fit_intercept=False)\n",
    "sk_model.fit(X_train, y_train)\n",
    "\n",
    "error = rel_error(sk_model.coef_, w)\n",
    "assert error <= 1e-13\n",
    "print(\"prediction error: \", error)"
   ]
  },
  {
   "cell_type": "markdown",
   "metadata": {},
   "source": [
    "## Combine everything in a class"
   ]
  },
  {
   "cell_type": "code",
   "execution_count": 21,
   "metadata": {
    "deletable": false,
    "nbgrader": {
     "cell_type": "code",
     "checksum": "93bcc6ce3d01eb1ae19e2674c2089dd0",
     "grade": false,
     "grade_id": "cell-6ec30d1a23311e34",
     "locked": false,
     "schema_version": 3,
     "solution": true,
     "task": false
    }
   },
   "outputs": [],
   "source": [
    "class LinearRegression():\n",
    "    def __init__(self, fit_intercept=True, method=\"inverse\"):\n",
    "        self.w = 0\n",
    "        self.fit_intercept = fit_intercept # bias\n",
    "        self.method = method\n",
    "    \n",
    "    def fit(self, X, y):\n",
    "        if(self.fit_intercept):\n",
    "            b = np.ones((X.shape[0],1))\n",
    "            X = np.concatenate((b,X),axis=1)\n",
    "       \n",
    "        if (self.method == 'inverse'):\n",
    "            self.w = fit_inverse(X,y)\n",
    "        elif (self.method == 'cholesky'):\n",
    "            self.w = fit_cholesky(X,y)\n",
    "        elif (self.method == 'qr'):\n",
    "            self.w = fit_qr(X,y)\n",
    "        elif (self.method == 'svd'):\n",
    "            self.w = fit_svd(X,y)        \n",
    "        \n",
    "    def predict(self, X):\n",
    "        if(self.fit_intercept):\n",
    "            b = np.ones((X.shape[0],1))\n",
    "            X = np.concatenate((b,X),axis=1)  \n",
    "        return X@self.w"
   ]
  },
  {
   "cell_type": "markdown",
   "metadata": {},
   "source": [
    "### without the bias term"
   ]
  },
  {
   "cell_type": "code",
   "execution_count": 22,
   "metadata": {
    "deletable": false,
    "editable": false,
    "nbgrader": {
     "cell_type": "code",
     "checksum": "7e2566ac9fab2095026b65f7aaed149b",
     "grade": true,
     "grade_id": "cell-8f754988c3d8f3bd",
     "locked": true,
     "points": 1,
     "schema_version": 3,
     "solution": false,
     "task": false
    }
   },
   "outputs": [
    {
     "name": "stdout",
     "output_type": "stream",
     "text": [
      "prediction error:  1.2016286059583595e-12\n"
     ]
    }
   ],
   "source": [
    "# DIRECT INVERSE APPROACH\n",
    "sk_model = LR(fit_intercept=False)\n",
    "sk_model.fit(X_train, y_train)\n",
    "sk_pred = sk_model.predict(X_train)\n",
    "\n",
    "model = LinearRegression(fit_intercept=False)\n",
    "model.fit(X_train, y_train)\n",
    "pred = model.predict(X_train)\n",
    "\n",
    "error = rel_error(pred, sk_pred)\n",
    "assert error <= 1e-11\n",
    "print(\"prediction error: \", error)"
   ]
  },
  {
   "cell_type": "code",
   "execution_count": 23,
   "metadata": {
    "deletable": false,
    "editable": false,
    "nbgrader": {
     "cell_type": "code",
     "checksum": "cb9da4d324a63d4ac6ffa9b94a9862f6",
     "grade": true,
     "grade_id": "cell-b2f69e29babd5ffa",
     "locked": true,
     "points": 2,
     "schema_version": 3,
     "solution": false,
     "task": false
    }
   },
   "outputs": [
    {
     "name": "stdout",
     "output_type": "stream",
     "text": [
      "prediction error cholesky:  2.640941991114797e-13\n",
      "prediction error qr:  1.792794031409217e-13\n",
      "prediction error svd:  2.640941991114797e-13\n"
     ]
    }
   ],
   "source": [
    "# OTHER APPROACHES\n",
    "sk_model = LR(fit_intercept=False)\n",
    "sk_model.fit(X_train, y_train)\n",
    "sk_pred = sk_model.predict(X_train)\n",
    "\n",
    "model_cholesky = LinearRegression(fit_intercept=False, method=\"cholesky\")\n",
    "model_cholesky.fit(X_train, y_train)\n",
    "pred_cholesky = model_cholesky.predict(X_train)\n",
    "\n",
    "error_cholesky = rel_error(pred_cholesky, sk_pred)\n",
    "assert error_cholesky <= 1e-11\n",
    "print(\"prediction error cholesky: \", error_cholesky)\n",
    "\n",
    "model_qr = LinearRegression(fit_intercept=False, method=\"qr\")\n",
    "model_qr.fit(X_train, y_train)\n",
    "pred_qr = model_qr.predict(X_train)\n",
    "\n",
    "error_qr = rel_error(pred_qr, sk_pred)\n",
    "assert error_qr <= 1e-11\n",
    "print(\"prediction error qr: \", error_qr)\n",
    "\n",
    "model_svd = LinearRegression(fit_intercept=False, method=\"svd\")\n",
    "model_svd.fit(X_train, y_train)\n",
    "pred_svd = model_cholesky.predict(X_train)\n",
    "\n",
    "error_cholesky = rel_error(pred_svd, sk_pred)\n",
    "assert error_cholesky <= 1e-11\n",
    "print(\"prediction error svd: \", error_cholesky)"
   ]
  },
  {
   "cell_type": "markdown",
   "metadata": {},
   "source": [
    "### with the bias term"
   ]
  },
  {
   "cell_type": "code",
   "execution_count": 24,
   "metadata": {
    "deletable": false,
    "editable": false,
    "nbgrader": {
     "cell_type": "code",
     "checksum": "156f79e2fa426ed177d2c33c99ee2277",
     "grade": true,
     "grade_id": "cell-7271d3ca16bb71bf",
     "locked": true,
     "points": 1,
     "schema_version": 3,
     "solution": false,
     "task": false
    }
   },
   "outputs": [
    {
     "name": "stdout",
     "output_type": "stream",
     "text": [
      "prediction error:  5.051737745143608e-15\n"
     ]
    }
   ],
   "source": [
    "# DIRECT INVERSE APPROACH\n",
    "sk_model = LR(fit_intercept=True)\n",
    "sk_model.fit(X_train, y_train)\n",
    "sk_pred = sk_model.predict(X_train)\n",
    "\n",
    "model = LinearRegression(fit_intercept=True)\n",
    "model.fit(X_train, y_train)\n",
    "pred = model.predict(X_train)\n",
    "\n",
    "error = rel_error(pred, sk_pred)\n",
    "assert error <= 1e-14\n",
    "print(\"prediction error: \", error)"
   ]
  },
  {
   "cell_type": "code",
   "execution_count": 25,
   "metadata": {
    "deletable": false,
    "editable": false,
    "nbgrader": {
     "cell_type": "code",
     "checksum": "a745a016521d45e3b82ceb09d2810cce",
     "grade": true,
     "grade_id": "cell-4b23ad5ab726d0e9",
     "locked": true,
     "points": 2,
     "schema_version": 3,
     "solution": false,
     "task": false
    }
   },
   "outputs": [
    {
     "name": "stdout",
     "output_type": "stream",
     "text": [
      "prediction error cholesky:  7.274265542175575e-15\n",
      "prediction error qr:  5.129289805380203e-15\n",
      "prediction error svd:  7.274265542175575e-15\n"
     ]
    }
   ],
   "source": [
    "# OTHER APPROACHES\n",
    "sk_model = LR(fit_intercept=True)\n",
    "sk_model.fit(X_train, y_train)\n",
    "sk_pred = sk_model.predict(X_train)\n",
    "\n",
    "model_cholesky = LinearRegression(fit_intercept=True, method=\"cholesky\")\n",
    "model_cholesky.fit(X_train, y_train)\n",
    "pred_cholesky = model_cholesky.predict(X_train)\n",
    "\n",
    "error_cholesky = rel_error(pred_cholesky, sk_pred)\n",
    "assert error_cholesky <= 1e-11\n",
    "print(\"prediction error cholesky: \", error_cholesky)\n",
    "\n",
    "model_qr = LinearRegression(fit_intercept=True, method=\"qr\")\n",
    "model_qr.fit(X_train, y_train)\n",
    "pred_qr = model_qr.predict(X_train)\n",
    "\n",
    "error_qr = rel_error(pred_qr, sk_pred)\n",
    "assert error_qr <= 1e-11\n",
    "print(\"prediction error qr: \", error_qr)\n",
    "\n",
    "model_svd = LinearRegression(fit_intercept=True, method=\"svd\")\n",
    "model_svd.fit(X_train, y_train)\n",
    "pred_svd = model_cholesky.predict(X_train)\n",
    "\n",
    "error_cholesky = rel_error(pred_svd, sk_pred)\n",
    "assert error_cholesky <= 1e-11\n",
    "print(\"prediction error svd: \", error_cholesky)"
   ]
  },
  {
   "cell_type": "markdown",
   "metadata": {
    "deletable": false,
    "editable": false,
    "nbgrader": {
     "cell_type": "markdown",
     "checksum": "64b273435217b384d4d560a4f85448f3",
     "grade": false,
     "grade_id": "cell-3b3e6a1f253ca9e9",
     "locked": true,
     "points": 1,
     "schema_version": 3,
     "solution": false,
     "task": true
    }
   },
   "source": [
    "Compare the running time of the different approaches on a large dataset"
   ]
  },
  {
   "cell_type": "code",
   "execution_count": 26,
   "metadata": {},
   "outputs": [
    {
     "data": {
      "text/html": [
       "<div>\n",
       "<style scoped>\n",
       "    .dataframe tbody tr th:only-of-type {\n",
       "        vertical-align: middle;\n",
       "    }\n",
       "\n",
       "    .dataframe tbody tr th {\n",
       "        vertical-align: top;\n",
       "    }\n",
       "\n",
       "    .dataframe thead th {\n",
       "        text-align: right;\n",
       "    }\n",
       "</style>\n",
       "<table border=\"1\" class=\"dataframe\">\n",
       "  <thead>\n",
       "    <tr style=\"text-align: right;\">\n",
       "      <th></th>\n",
       "      <th>Unnamed: 0</th>\n",
       "      <th>carat</th>\n",
       "      <th>cut</th>\n",
       "      <th>color</th>\n",
       "      <th>clarity</th>\n",
       "      <th>depth</th>\n",
       "      <th>table</th>\n",
       "      <th>price</th>\n",
       "      <th>x</th>\n",
       "      <th>y</th>\n",
       "      <th>z</th>\n",
       "    </tr>\n",
       "  </thead>\n",
       "  <tbody>\n",
       "    <tr>\n",
       "      <th>0</th>\n",
       "      <td>1</td>\n",
       "      <td>0.23</td>\n",
       "      <td>Ideal</td>\n",
       "      <td>E</td>\n",
       "      <td>SI2</td>\n",
       "      <td>61.5</td>\n",
       "      <td>55.0</td>\n",
       "      <td>326</td>\n",
       "      <td>3.95</td>\n",
       "      <td>3.98</td>\n",
       "      <td>2.43</td>\n",
       "    </tr>\n",
       "    <tr>\n",
       "      <th>1</th>\n",
       "      <td>2</td>\n",
       "      <td>0.21</td>\n",
       "      <td>Premium</td>\n",
       "      <td>E</td>\n",
       "      <td>SI1</td>\n",
       "      <td>59.8</td>\n",
       "      <td>61.0</td>\n",
       "      <td>326</td>\n",
       "      <td>3.89</td>\n",
       "      <td>3.84</td>\n",
       "      <td>2.31</td>\n",
       "    </tr>\n",
       "    <tr>\n",
       "      <th>2</th>\n",
       "      <td>3</td>\n",
       "      <td>0.23</td>\n",
       "      <td>Good</td>\n",
       "      <td>E</td>\n",
       "      <td>VS1</td>\n",
       "      <td>56.9</td>\n",
       "      <td>65.0</td>\n",
       "      <td>327</td>\n",
       "      <td>4.05</td>\n",
       "      <td>4.07</td>\n",
       "      <td>2.31</td>\n",
       "    </tr>\n",
       "    <tr>\n",
       "      <th>3</th>\n",
       "      <td>4</td>\n",
       "      <td>0.29</td>\n",
       "      <td>Premium</td>\n",
       "      <td>I</td>\n",
       "      <td>VS2</td>\n",
       "      <td>62.4</td>\n",
       "      <td>58.0</td>\n",
       "      <td>334</td>\n",
       "      <td>4.20</td>\n",
       "      <td>4.23</td>\n",
       "      <td>2.63</td>\n",
       "    </tr>\n",
       "    <tr>\n",
       "      <th>4</th>\n",
       "      <td>5</td>\n",
       "      <td>0.31</td>\n",
       "      <td>Good</td>\n",
       "      <td>J</td>\n",
       "      <td>SI2</td>\n",
       "      <td>63.3</td>\n",
       "      <td>58.0</td>\n",
       "      <td>335</td>\n",
       "      <td>4.34</td>\n",
       "      <td>4.35</td>\n",
       "      <td>2.75</td>\n",
       "    </tr>\n",
       "  </tbody>\n",
       "</table>\n",
       "</div>"
      ],
      "text/plain": [
       "   Unnamed: 0  carat      cut color clarity  depth  table  price     x     y  \\\n",
       "0           1   0.23    Ideal     E     SI2   61.5   55.0    326  3.95  3.98   \n",
       "1           2   0.21  Premium     E     SI1   59.8   61.0    326  3.89  3.84   \n",
       "2           3   0.23     Good     E     VS1   56.9   65.0    327  4.05  4.07   \n",
       "3           4   0.29  Premium     I     VS2   62.4   58.0    334  4.20  4.23   \n",
       "4           5   0.31     Good     J     SI2   63.3   58.0    335  4.34  4.35   \n",
       "\n",
       "      z  \n",
       "0  2.43  \n",
       "1  2.31  \n",
       "2  2.31  \n",
       "3  2.63  \n",
       "4  2.75  "
      ]
     },
     "execution_count": 26,
     "metadata": {},
     "output_type": "execute_result"
    }
   ],
   "source": [
    "import pandas as pd\n",
    "import time\n",
    "\n",
    "data = pd.read_csv('diamonds.csv')\n",
    "data.dropna()\n",
    "data.head()"
   ]
  },
  {
   "cell_type": "code",
   "execution_count": 27,
   "metadata": {},
   "outputs": [
    {
     "name": "stdout",
     "output_type": "stream",
     "text": [
      "(53940, 6) (53940,)\n"
     ]
    }
   ],
   "source": [
    "X = data[[\"carat\",\"depth\",\"table\",\"x\",\"y\",\"z\",]]\n",
    "y = data[\"price\"]\n",
    "\n",
    "X = X.to_numpy()\n",
    "y = y.to_numpy()\n",
    "print(X.shape,y.shape)"
   ]
  },
  {
   "cell_type": "markdown",
   "metadata": {},
   "source": [
    "# Running time\n",
    "### Without the bias term"
   ]
  },
  {
   "cell_type": "code",
   "execution_count": 28,
   "metadata": {},
   "outputs": [
    {
     "name": "stdout",
     "output_type": "stream",
     "text": [
      "\tInverse: 0.013751029968261719\n",
      "\tCholesky: 0.004720926284790039\n",
      "\tQR: 0.0048258304595947266\n",
      "\tSVD: 0.00493621826171875\n"
     ]
    }
   ],
   "source": [
    "start = time.time()\n",
    "model = LinearRegression(fit_intercept=False)\n",
    "model.fit(X,y)\n",
    "end = time.time()\n",
    "print(f\"\\tInverse: {end-start}\")\n",
    "\n",
    "start = time.time()\n",
    "model = LinearRegression(fit_intercept=False,method=\"cholesky\")\n",
    "model.fit(X,y)\n",
    "end = time.time()\n",
    "print(f\"\\tCholesky: {end-start}\")\n",
    "\n",
    "start = time.time()\n",
    "model = LinearRegression(fit_intercept=False,method=\"qr\")\n",
    "model.fit(X,y)\n",
    "end = time.time()\n",
    "print(f\"\\tQR: {end-start}\")\n",
    "\n",
    "start = time.time()\n",
    "model = LinearRegression(fit_intercept=False,method=\"svd\")\n",
    "model.fit(X,y)\n",
    "end = time.time()\n",
    "print(f\"\\tSVD: {end-start}\")"
   ]
  },
  {
   "cell_type": "markdown",
   "metadata": {},
   "source": [
    "### With the bias term"
   ]
  },
  {
   "cell_type": "code",
   "execution_count": 29,
   "metadata": {},
   "outputs": [
    {
     "name": "stdout",
     "output_type": "stream",
     "text": [
      "\tInverse: 0.011739015579223633\n",
      "\tCholesky: 0.002331972122192383\n",
      "\tQR: 0.0027353763580322266\n",
      "\tSVD: 0.005143642425537109\n"
     ]
    }
   ],
   "source": [
    "start = time.time()\n",
    "model = LinearRegression(fit_intercept=True)\n",
    "model.fit(X,y)\n",
    "end = time.time()\n",
    "print(f\"\\tInverse: {end-start}\")\n",
    "\n",
    "start = time.time()\n",
    "model = LinearRegression(fit_intercept=False,method=\"cholesky\")\n",
    "model.fit(X,y)\n",
    "end = time.time()\n",
    "print(f\"\\tCholesky: {end-start}\")\n",
    "\n",
    "start = time.time()\n",
    "model = LinearRegression(fit_intercept=False,method=\"qr\")\n",
    "model.fit(X,y)\n",
    "end = time.time()\n",
    "print(f\"\\tQR: {end-start}\")\n",
    "\n",
    "start = time.time()\n",
    "model = LinearRegression(fit_intercept=False,method=\"svd\")\n",
    "model.fit(X,y)\n",
    "end = time.time()\n",
    "print(f\"\\tSVD: {end-start}\")"
   ]
  },
  {
   "cell_type": "code",
   "execution_count": null,
   "metadata": {},
   "outputs": [],
   "source": []
  },
  {
   "cell_type": "code",
   "execution_count": null,
   "metadata": {},
   "outputs": [],
   "source": []
  }
 ],
 "metadata": {
  "kernelspec": {
   "display_name": "Python 3",
   "language": "python",
   "name": "python3"
  },
  "language_info": {
   "codemirror_mode": {
    "name": "ipython",
    "version": 3
   },
   "file_extension": ".py",
   "mimetype": "text/x-python",
   "name": "python",
   "nbconvert_exporter": "python",
   "pygments_lexer": "ipython3",
   "version": "3.8.8"
  }
 },
 "nbformat": 4,
 "nbformat_minor": 4
}
